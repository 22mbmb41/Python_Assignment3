{
 "cells": [
  {
   "cell_type": "markdown",
   "id": "12dd9d13-56e7-4c97-8507-d61d3f0d9bb0",
   "metadata": {},
   "source": []
  },
  {
   "cell_type": "markdown",
   "id": "ef4036cf-29c0-4be0-93f0-3be5d2c1ea8a",
   "metadata": {},
   "source": [
    "Q1. Create an empty list."
   ]
  },
  {
   "cell_type": "code",
   "execution_count": 12,
   "id": "7fe750b7-803f-4b63-9c01-0bf425056f35",
   "metadata": {},
   "outputs": [
    {
     "name": "stdout",
     "output_type": "stream",
     "text": [
      "[]\n",
      "[]\n"
     ]
    }
   ],
   "source": [
    "empty_list = []\n",
    "print(empty_list)  # Output: []\n",
    "\n",
    "empty_list1 = list()\n",
    "print(empty_list1)  # Output: []\n"
   ]
  },
  {
   "cell_type": "markdown",
   "id": "1deb6d1f-6ecc-4c07-bf9b-4915a4b9328d",
   "metadata": {},
   "source": [
    "Q2. Create a list and add an element to the end of this list."
   ]
  },
  {
   "cell_type": "code",
   "execution_count": 17,
   "id": "71e6c0f9-6fa8-4379-b545-23ff3410173b",
   "metadata": {},
   "outputs": [
    {
     "name": "stdout",
     "output_type": "stream",
     "text": [
      "['banana', 'mango', 'apple']\n"
     ]
    }
   ],
   "source": [
    "# Create an empty list\n",
    "my_list = ['banana' , 'mango']\n",
    "\n",
    "# Add an element to the end of the list using the append() method\n",
    "my_list.append(\"apple\")\n",
    "\n",
    "print(my_list)  # Output: ['banana' , 'mango','apple']\n"
   ]
  },
  {
   "cell_type": "markdown",
   "id": "d5f0fa6d-b927-4a62-b33e-347b6817303c",
   "metadata": {},
   "source": [
    "Q3. For the above created list print the last element."
   ]
  },
  {
   "cell_type": "code",
   "execution_count": 14,
   "id": "c54f5e75-2703-45e1-b4ae-cd3d64a680d3",
   "metadata": {},
   "outputs": [
    {
     "name": "stdout",
     "output_type": "stream",
     "text": [
      "apple\n"
     ]
    }
   ],
   "source": [
    "print(my_list[-1])"
   ]
  },
  {
   "cell_type": "markdown",
   "id": "980c9479-23ba-4258-8d62-1868b531528e",
   "metadata": {},
   "source": [
    "Q4. Reverse the above created list.\n"
   ]
  },
  {
   "cell_type": "code",
   "execution_count": 15,
   "id": "29af9615-2202-41d3-9929-1b046192c618",
   "metadata": {},
   "outputs": [
    {
     "name": "stdout",
     "output_type": "stream",
     "text": [
      "['apple', 'mango', 'banana']\n"
     ]
    }
   ],
   "source": [
    "print(my_list[::-1])"
   ]
  },
  {
   "cell_type": "markdown",
   "id": "2763ce43-93e3-4674-84cc-d6474f023d6c",
   "metadata": {},
   "source": [
    "Q5. Sort the above created list.\n"
   ]
  },
  {
   "cell_type": "code",
   "execution_count": 18,
   "id": "f7ef4797-6770-4c10-8d38-4c3327c9b5f3",
   "metadata": {},
   "outputs": [
    {
     "name": "stdout",
     "output_type": "stream",
     "text": [
      "['apple', 'banana', 'mango']\n",
      "['apple', 'banana', 'mango']\n"
     ]
    }
   ],
   "source": [
    "my_list.sort()\n",
    "print(my_list)"
   ]
  },
  {
   "cell_type": "markdown",
   "id": "d0cf47a5-d89b-4a7b-a585-809afc181104",
   "metadata": {},
   "source": [
    "Q6. Create a list of your top three favorite movies, then print the second movie title.\n"
   ]
  },
  {
   "cell_type": "code",
   "execution_count": 19,
   "id": "988a74e7-70a0-4b7f-a5fb-9330a5d70050",
   "metadata": {},
   "outputs": [
    {
     "name": "stdout",
     "output_type": "stream",
     "text": [
      "b\n"
     ]
    }
   ],
   "source": [
    "movie_list = ['A','b','c']\n",
    "print(movie_list[1])"
   ]
  },
  {
   "cell_type": "markdown",
   "id": "84b9dd25-8a31-4fb6-866c-88cb398362e7",
   "metadata": {},
   "source": [
    "Q7. Create a list of your favorite animals, then add a new animal to the list and print the updated list.\n"
   ]
  },
  {
   "cell_type": "code",
   "execution_count": 20,
   "id": "adee4af5-7cf0-4ad4-89af-de33fe1d005a",
   "metadata": {},
   "outputs": [
    {
     "name": "stdout",
     "output_type": "stream",
     "text": [
      "['Dear', 'Lion', 'Tiger', 'Dog']\n"
     ]
    }
   ],
   "source": [
    "animal_list = ['Dear', 'Lion' , 'Tiger']\n",
    "animal_list.append('Dog')\n",
    "print(animal_list)"
   ]
  },
  {
   "cell_type": "markdown",
   "id": "61a41075-a03b-461d-be58-f2482d4ef0df",
   "metadata": {},
   "source": [
    "Q8. Create a list of your favorite cities, then use the index() method to find the position of a specific city\n",
    "on the list and print it."
   ]
  },
  {
   "cell_type": "code",
   "execution_count": null,
   "id": "d6a3a567-c1be-45da-8883-6d835ef14348",
   "metadata": {},
   "outputs": [],
   "source": [
    "# Create a list of favorite cities\n",
    "favorite_cities = [\"Delhi\", \"Hyderabad\", \"Banglore\"]\n",
    "\n",
    "city_to_find = \"Banglore\"\n",
    "city_index = favorite_cities.index(city_to_find)\n",
    "\n",
    "# Check if the city is found (index() raises ValueError if not found)\n",
    "if city_index >= 0:\n",
    "    \n",
    "    print(f\"The city '{city_to_find}' is at position {city_index + 1} in the list.\")\n",
    "else:\n",
    "    \n",
    "    print(f\"The city '{city_to_find}' is not found in the list.\")\n"
   ]
  }
 ],
 "metadata": {
  "kernelspec": {
   "display_name": "Python 3 (ipykernel)",
   "language": "python",
   "name": "python3"
  },
  "language_info": {
   "codemirror_mode": {
    "name": "ipython",
    "version": 3
   },
   "file_extension": ".py",
   "mimetype": "text/x-python",
   "name": "python",
   "nbconvert_exporter": "python",
   "pygments_lexer": "ipython3",
   "version": "3.10.8"
  }
 },
 "nbformat": 4,
 "nbformat_minor": 5
}
